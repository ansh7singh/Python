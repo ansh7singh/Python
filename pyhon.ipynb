{
 "cells": [
  {
   "cell_type": "markdown",
   "id": "42126588",
   "metadata": {},
   "source": [
    "## python if else questions\n"
   ]
  },
  {
   "cell_type": "code",
   "execution_count": 1,
   "id": "24cadcf7",
   "metadata": {},
   "outputs": [
    {
     "name": "stdout",
     "output_type": "stream",
     "text": [
      "enter the number-1\n",
      "the number is negative\n"
     ]
    }
   ],
   "source": [
    "## 1. write a programe to check whether a number is positive,negative,or zero\n",
    "\n",
    "num1=int(input(\"enter the number\"))\n",
    "\n",
    "if(num1>0):\n",
    "    print(\"the number is positive\")\n",
    "    \n",
    "elif(num1==0):\n",
    "    print(\"zero\")\n",
    "else:\n",
    "    print(\"the number is negative\")"
   ]
  },
  {
   "cell_type": "code",
   "execution_count": 2,
   "id": "dbc22ca1",
   "metadata": {},
   "outputs": [
    {
     "name": "stdout",
     "output_type": "stream",
     "text": [
      "enter the first number5\n",
      "enter the second number6\n",
      "enter the third number7\n",
      "largest is: 7\n"
     ]
    }
   ],
   "source": [
    "## 2. write programe to find the largest of three numbers\n",
    "a=int(input(\"enter the first number\"))\n",
    "\n",
    "b=int(input(\"enter the second number\"))\n",
    "\n",
    "c=int(input(\"enter the third number\"))\n",
    "\n",
    "if(a>b and a>c):\n",
    "    print(\"largest is:\",a)\n",
    "elif(b>c and b>a):\n",
    "    print(\"largest is:\",b)\n",
    "else:\n",
    "    print(\"largest is:\",c)"
   ]
  },
  {
   "cell_type": "markdown",
   "id": "bc555888",
   "metadata": {},
   "source": [
    "# for loop questions"
   ]
  },
  {
   "cell_type": "code",
   "execution_count": 13,
   "id": "09db5b96",
   "metadata": {},
   "outputs": [
    {
     "name": "stdout",
     "output_type": "stream",
     "text": [
      "1\n",
      "1\n",
      "1\n",
      "1\n",
      "1\n",
      "1\n",
      "1\n",
      "1\n",
      "1\n",
      "1\n"
     ]
    }
   ],
   "source": [
    "## 1. write a programe to print the 10 natural numbers using for loop\n",
    "\n",
    "for i in range(1,11):\n",
    "    print(i)\n"
   ]
  },
  {
   "cell_type": "code",
   "execution_count": 11,
   "id": "bd37870f",
   "metadata": {},
   "outputs": [
    {
     "name": "stdout",
     "output_type": "stream",
     "text": [
      "28\n"
     ]
    }
   ],
   "source": [
    "## write programe to calculate the sum of numbers in a list\n",
    "lst=[1,2,3,4,5,6,7]\n",
    "sum1=0\n",
    "for i in lst:\n",
    "    sum1=sum1+i\n",
    "print(sum1)"
   ]
  },
  {
   "cell_type": "code",
   "execution_count": 8,
   "id": "f0d3c62a",
   "metadata": {},
   "outputs": [
    {
     "name": "stdout",
     "output_type": "stream",
     "text": [
      "Sum: 15\n"
     ]
    }
   ],
   "source": [
    "numbers = [1, 2, 3, 4, 5]\n",
    "total = 0\n",
    "for num in numbers:\n",
    "    total += num\n",
    "print(\"Sum:\", total)\n"
   ]
  },
  {
   "cell_type": "markdown",
   "id": "58e3b1d1",
   "metadata": {},
   "source": [
    "## while loop questions "
   ]
  },
  {
   "cell_type": "code",
   "execution_count": 2,
   "id": "787dfadb",
   "metadata": {},
   "outputs": [
    {
     "name": "stdout",
     "output_type": "stream",
     "text": [
      "2 4 6 8 10 12 14 16 18 20 22 24 26 28 30 32 34 36 38 40 42 44 46 48 50 "
     ]
    }
   ],
   "source": [
    "## 1. write a programe to print all the even numbers between 1 and 50\n",
    "i=2\n",
    "while i<=50:\n",
    "    if(i%2==0):\n",
    "        print(i, end=\" \")\n",
    "    i=i+2\n"
   ]
  },
  {
   "cell_type": "code",
   "execution_count": 4,
   "id": "fedee928",
   "metadata": {},
   "outputs": [
    {
     "name": "stdout",
     "output_type": "stream",
     "text": [
      "enter the number157\n",
      "751\n"
     ]
    }
   ],
   "source": [
    "## 2. write a programe to reverse a number using a while loop\n",
    "num2=int(input(\"enter the number\"))\n",
    "reverse=0\n",
    "while num2>0:\n",
    "    rem=num2%10\n",
    "    reverse=reverse*10+rem\n",
    "    num2//=10\n",
    "print(reverse)\n",
    "    \n"
   ]
  },
  {
   "cell_type": "markdown",
   "id": "5dc3102d",
   "metadata": {},
   "source": [
    "## break and continue"
   ]
  },
  {
   "cell_type": "code",
   "execution_count": 1,
   "id": "07ce5d74",
   "metadata": {},
   "outputs": [
    {
     "name": "stdout",
     "output_type": "stream",
     "text": [
      "1 2 3 4 5 6 "
     ]
    }
   ],
   "source": [
    "## 1. write a programe to print numbers from 1 to 10, but stop if the number is 7\n",
    "\n",
    "for i in range(1,11):\n",
    "    if(i==7):\n",
    "        break\n",
    "    print(i,end=\" \")"
   ]
  },
  {
   "cell_type": "markdown",
   "id": "488a4bbf",
   "metadata": {},
   "source": [
    "## if else and loops combinations"
   ]
  },
  {
   "cell_type": "code",
   "execution_count": 2,
   "id": "12eb6ac0",
   "metadata": {},
   "outputs": [
    {
     "name": "stdout",
     "output_type": "stream",
     "text": [
      "Enter a number: 151\n",
      "Palindrome\n"
     ]
    }
   ],
   "source": [
    "## 1. check if the number is palindrome\n",
    "num = int(input(\"Enter a number: \"))\n",
    "original = num\n",
    "reversed_num = 0\n",
    "while num > 0:\n",
    "    reversed_num = reversed_num * 10 + num % 10\n",
    "    num //= 10\n",
    "if original == reversed_num:\n",
    "    print(\"Palindrome\")\n",
    "else:\n",
    "    print(\"Not a Palindrome\")\n",
    "\n"
   ]
  },
  {
   "cell_type": "code",
   "execution_count": 7,
   "id": "3a61e0c6",
   "metadata": {},
   "outputs": [
    {
     "name": "stdout",
     "output_type": "stream",
     "text": [
      "enter the number9\n",
      "9 x 1 = 9\n",
      "9 x 2 = 18\n",
      "9 x 3 = 27\n",
      "9 x 4 = 36\n",
      "9 x 5 = 45\n",
      "9 x 6 = 54\n",
      "9 x 7 = 63\n",
      "9 x 8 = 72\n",
      "9 x 9 = 81\n",
      "9 x 10 = 90\n"
     ]
    }
   ],
   "source": [
    "## 2. multiplication table of a number\n",
    "num3=int(input(\"enter the number\"))\n",
    "for i in range(1,11):\n",
    "    print(num3,'x',i,'=',num3*i)\n",
    "    "
   ]
  },
  {
   "cell_type": "markdown",
   "id": "e5437c71",
   "metadata": {},
   "source": [
    "## logic operators questions"
   ]
  },
  {
   "cell_type": "code",
   "execution_count": 10,
   "id": "7f78f8b0",
   "metadata": {},
   "outputs": [
    {
     "name": "stdout",
     "output_type": "stream",
     "text": [
      "enter the number10\n",
      "number is in the range\n"
     ]
    }
   ],
   "source": [
    "## 1. check if number is within a range of 10 and 20\n",
    "num4=int(input(\"enter the number\"))\n",
    "\n",
    "if(num4>=10 and num4<=20):\n",
    "    print(\"number is in the range\")\n",
    "else:\n",
    "    print(\"not in range\")\n"
   ]
  },
  {
   "cell_type": "code",
   "execution_count": 11,
   "id": "62ee5d9d",
   "metadata": {},
   "outputs": [
    {
     "name": "stdout",
     "output_type": "stream",
     "text": [
      "enter the number15\n",
      "it is divisible by both\n"
     ]
    }
   ],
   "source": [
    "## 2. write a programe to check if a number is divisible by both 3 and 5.\n",
    "\n",
    "num5=int(input(\"enter the number\"))\n",
    "if(num5%3==0 and num5%5==0):\n",
    "    print(\"it is divisible by both\")\n",
    "else:\n",
    "    print(\"it is not\")"
   ]
  },
  {
   "cell_type": "markdown",
   "id": "2f21cfb8",
   "metadata": {},
   "source": [
    "## equality operators question\n"
   ]
  },
  {
   "cell_type": "code",
   "execution_count": 12,
   "id": "23cad975",
   "metadata": {},
   "outputs": [
    {
     "name": "stdout",
     "output_type": "stream",
     "text": [
      "enter the first stringansh\n",
      "enter the seconod stringansh\n",
      "both the entered strings are equal\n"
     ]
    }
   ],
   "source": [
    "## 1. write a programe to check if two user-input strings are equal\n",
    "str1=input(\"enter the first string\")\n",
    "str2=input(\"enter the seconod string\")\n",
    "\n",
    "if str1==str2:\n",
    "    print(\"both the entered strings are equal\")\n",
    "else:\n",
    "    print(\"they are not equal\")"
   ]
  },
  {
   "cell_type": "markdown",
   "id": "ea393a9c",
   "metadata": {},
   "source": [
    "# arthmetic operators "
   ]
  },
  {
   "cell_type": "code",
   "execution_count": 15,
   "id": "95c0bbae",
   "metadata": {},
   "outputs": [
    {
     "name": "stdout",
     "output_type": "stream",
     "text": [
      "enter the first number5\n",
      "enter the secoond number5\n",
      "enter the operator*\n",
      "multiplication is performed  {25}\n"
     ]
    }
   ],
   "source": [
    "# 1. programe that takes two numbers as input and performs addition , substraction , multiplication and division\n",
    "\n",
    "a=int(input(\"enter the first number\"))\n",
    "b=int(input(\"enter the secoond number\"))\n",
    "op=input(\"enter the operator\")\n",
    "if op=='+':\n",
    "    print(\"addition is performed \",{a+b})\n",
    "elif op=='-':\n",
    "    print(\"substraction is performed: \",{a-b})\n",
    "elif op=='*':\n",
    "    print(\"multiplication is performed \",{a*b})\n",
    "else:\n",
    "    print(\"invalid operator\")"
   ]
  },
  {
   "cell_type": "code",
   "execution_count": 16,
   "id": "492bf680",
   "metadata": {},
   "outputs": [
    {
     "name": "stdout",
     "output_type": "stream",
     "text": [
      "enter the radius5.5\n",
      "95.03317777109125\n"
     ]
    }
   ],
   "source": [
    "# 2. calculate the area of circle\n",
    "\n",
    "import math\n",
    "rad=float(input(\"enter the radius\"))\n",
    "area=math.pi*rad**2\n",
    "print(area)\n"
   ]
  },
  {
   "cell_type": "code",
   "execution_count": null,
   "id": "46a302ad",
   "metadata": {},
   "outputs": [],
   "source": []
  }
 ],
 "metadata": {
  "kernelspec": {
   "display_name": "Python 3 (ipykernel)",
   "language": "python",
   "name": "python3"
  },
  "language_info": {
   "codemirror_mode": {
    "name": "ipython",
    "version": 3
   },
   "file_extension": ".py",
   "mimetype": "text/x-python",
   "name": "python",
   "nbconvert_exporter": "python",
   "pygments_lexer": "ipython3",
   "version": "3.11.3"
  }
 },
 "nbformat": 4,
 "nbformat_minor": 5
}
